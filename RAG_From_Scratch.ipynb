{
 "cells": [
  {
   "cell_type": "code",
   "execution_count": 18,
   "metadata": {},
   "outputs": [],
   "source": [
    "import numpy as np\n",
    "from sklearn.feature_extraction.text import TfidfVectorizer\n",
    "from sklearn.metrics.pairwise import cosine_similarity\n",
    "import google.generativeai as genai\n",
    "import json"
   ]
  },
  {
   "cell_type": "code",
   "execution_count": 19,
   "metadata": {},
   "outputs": [],
   "source": [
    "with open('key.json') as file:\n",
    "    api_keys = json.load(file)\n",
    "with open(\"docs.txt\", \"r\") as file:\n",
    "    documents=file.read()"
   ]
  },
  {
   "cell_type": "code",
   "execution_count": 20,
   "metadata": {},
   "outputs": [],
   "source": [
    "GOOGLE_API_KEY=api_keys['GOOGLE_API_KEY']"
   ]
  },
  {
   "cell_type": "code",
   "execution_count": 21,
   "metadata": {},
   "outputs": [],
   "source": [
    "genai.configure()\n",
    "llm = genai.GenerativeModel(\"gemini-pro\")"
   ]
  },
  {
   "cell_type": "code",
   "execution_count": 22,
   "metadata": {},
   "outputs": [],
   "source": [
    "def indexing(documents,chunk_size=100,chunk_overlap=10):\n",
    "    documents=documents.split()\n",
    "    documents_chunk=[]\n",
    "    for i in range(0,len(documents)+chunk_size,chunk_size):\n",
    "        if i==0:\n",
    "            documents_chunk.append(' '.join(documents[i:i+chunk_size]))\n",
    "        else:\n",
    "            documents_chunk.append(' '.join(documents[i-chunk_overlap:i+chunk_size]))\n",
    "    documents_chunk.remove('')\n",
    "    vectorizer = TfidfVectorizer(max_features=110)\n",
    "    tfidf_matrix = vectorizer.fit_transform(documents_chunk)\n",
    "    return vectorizer,tfidf_matrix,documents_chunk"
   ]
  },
  {
   "cell_type": "code",
   "execution_count": 23,
   "metadata": {},
   "outputs": [],
   "source": [
    "vectorizer,tfidf_matrix,documents_chunk=indexing(documents,chunk_size=100,chunk_overlap=10)"
   ]
  },
  {
   "cell_type": "code",
   "execution_count": 24,
   "metadata": {},
   "outputs": [],
   "source": [
    "def retrieval(vectorizer,tfidf_matrix,input_text,documents_chunk,k):\n",
    "    input_vector = vectorizer.transform([input_text])\n",
    "    similarities = cosine_similarity(input_vector, tfidf_matrix).flatten()\n",
    "    most_similar_indices = similarities.argsort()[::-1][:k]\n",
    "    relevant_chunk=[]\n",
    "    for idx in most_similar_indices:\n",
    "        relevant_chunk.append(documents_chunk[idx])\n",
    "        print(f\"Document {idx}:\")\n",
    "        print(f\"Text: {documents_chunk[idx]}\")\n",
    "        print(f\"Cosine similarity score: {similarities[idx]:.4f}\\n\")\n",
    "    return relevant_chunk"
   ]
  },
  {
   "cell_type": "code",
   "execution_count": 25,
   "metadata": {},
   "outputs": [],
   "source": [
    "def generation(prompt,llm):\n",
    "    response = llm.generate_content(prompt)\n",
    "    return response.text"
   ]
  },
  {
   "cell_type": "code",
   "execution_count": 26,
   "metadata": {},
   "outputs": [],
   "source": [
    "def ragChain(input_text, vectorizer,tfidf_matrix,documents_chunk,llm, k):\n",
    "    relevant_chunks = retrieval(vectorizer,tfidf_matrix,input_text,documents_chunk,k)\n",
    "    \n",
    "    prompt = f\"\"\"\n",
    "    You are a helpful Document Assistant that can answer questions based on the provided document.\n",
    "\n",
    "    Answer the following question: `{input_text}`\n",
    "    By searching the following document content: `{relevant_chunks}`\n",
    "\n",
    "    Only use factual information from the document content to answer the question.\n",
    "\n",
    "    If you feel like you don`t have enough information to answer the question, say directly \"I don`t know\".\n",
    "    Your answer should be detailed but easy to understand.\n",
    "    \"\"\"\n",
    "\n",
    "    response=generation(prompt,llm)\n",
    "    return response"
   ]
  },
  {
   "cell_type": "code",
   "execution_count": 27,
   "metadata": {},
   "outputs": [
    {
     "name": "stdout",
     "output_type": "stream",
     "text": [
      "Input: What is Machine Learning\n",
      "Document 0:\n",
      "Text: Machine learning algorithms are computational models that allow computers to understand patterns and forecast or make judgments based on data without explicit programming. These algorithms form the foundation of modern artificial intelligence and are used in various applications, including image and speech recognition, natural language processing, recommendation systems, fraud detection, autonomous cars, etc. This Machine learning Algorithms article will cover all the essential algorithms of machine learning like Support vector machine, decision-making, logistics regression, naive bayees classifier, random forest, k-mean clustering, reinforcement learning, vector, hierarchical clustering, xgboost, adaboost, logistics, etc. Types of Machine Learning Algorithms There are four types of\n",
      "Cosine similarity score: 0.5041\n",
      "\n",
      "Document 1:\n",
      "Text: Types of Machine Learning Algorithms There are four types of machine learning algorithms 1. Supervised Learning A. Classification Logistic Regression Support Vector Machines (SVM) k-Nearest Neighbors (k-NN) Naive Bayes Decision Trees Random Forest Gradient Boosting (e.g., XGBoost, LightGBM, CatBoost) Neural Networks (e.g., Multilayer Perceptron) B. Regression Linear Regression Ridge Regression Lasso Regression Support Vector Regression (SVR) Decision Trees Regression Random Forest Regression Gradient Boosting Regression Neural Networks Regression 2. Unsupervised Learning A. Clustering k-Means Hierarchical Clustering DBSCAN (Density-Based Spatial Clustering of Applications with Noise) Gaussian Mixture Models (GMM) B. Dimensionality Reduction Principal Component Analysis (PCA) t-Distributed Stochastic Neighbor Embedding (t-SNE) Linear Discriminant Analysis (LDA) Independent Component Analysis (ICA) UMAP (Uniform\n",
      "Cosine similarity score: 0.2112\n",
      "\n",
      "Output: Machine Learning refers to computational models that equip computers with the ability to comprehend patterns, make predictions, and draw inferences from data, without the need for manual programming. These algorithms serve as the cornerstone of contemporary artificial intelligence and find applications in various domains, such as image and speech recognition, natural language processing, recommendation engines, fraud detection, self-driving vehicles, and more.\n"
     ]
    }
   ],
   "source": [
    "input_text=\"What is Machine Learning\"\n",
    "print(f\"Input: {input_text}\")\n",
    "response=ragChain(input_text, vectorizer,tfidf_matrix,documents_chunk,llm, k=2)\n",
    "print(f\"Output: {response}\")"
   ]
  },
  {
   "cell_type": "code",
   "execution_count": 28,
   "metadata": {},
   "outputs": [
    {
     "name": "stdout",
     "output_type": "stream",
     "text": [
      "Input: Types of Machine Learning\n",
      "Document 0:\n",
      "Text: Machine learning algorithms are computational models that allow computers to understand patterns and forecast or make judgments based on data without explicit programming. These algorithms form the foundation of modern artificial intelligence and are used in various applications, including image and speech recognition, natural language processing, recommendation systems, fraud detection, autonomous cars, etc. This Machine learning Algorithms article will cover all the essential algorithms of machine learning like Support vector machine, decision-making, logistics regression, naive bayees classifier, random forest, k-mean clustering, reinforcement learning, vector, hierarchical clustering, xgboost, adaboost, logistics, etc. Types of Machine Learning Algorithms There are four types of\n",
      "Cosine similarity score: 0.6230\n",
      "\n",
      "Document 1:\n",
      "Text: Types of Machine Learning Algorithms There are four types of machine learning algorithms 1. Supervised Learning A. Classification Logistic Regression Support Vector Machines (SVM) k-Nearest Neighbors (k-NN) Naive Bayes Decision Trees Random Forest Gradient Boosting (e.g., XGBoost, LightGBM, CatBoost) Neural Networks (e.g., Multilayer Perceptron) B. Regression Linear Regression Ridge Regression Lasso Regression Support Vector Regression (SVR) Decision Trees Regression Random Forest Regression Gradient Boosting Regression Neural Networks Regression 2. Unsupervised Learning A. Clustering k-Means Hierarchical Clustering DBSCAN (Density-Based Spatial Clustering of Applications with Noise) Gaussian Mixture Models (GMM) B. Dimensionality Reduction Principal Component Analysis (PCA) t-Distributed Stochastic Neighbor Embedding (t-SNE) Linear Discriminant Analysis (LDA) Independent Component Analysis (ICA) UMAP (Uniform\n",
      "Cosine similarity score: 0.3103\n",
      "\n",
      "Output: There are four types of machine learning algorithms:\n",
      "- Supervised Learning: This algorithm requires a dataset with labeled data. The model learns to map input data to output labels.\n",
      "- Unsupervised Learning: This algorithm requires a dataset without labeled data. The model learns patterns and structures in the data.\n",
      "- Semi-supervised Learning: This algorithm requires a dataset with a mixture of labeled and unlabeled data. The model learns from both labeled and unlabeled data.\n",
      "- Reinforcement Learning: This algorithm learns by interacting with the environment. The model receives feedback from the environment and adjusts its behavior to maximize rewards.\n"
     ]
    }
   ],
   "source": [
    "input_text=\"Types of Machine Learning\"\n",
    "print(f\"Input: {input_text}\")\n",
    "response=ragChain(input_text, vectorizer,tfidf_matrix,documents_chunk,llm, k=2)\n",
    "print(f\"Output: {response}\")"
   ]
  },
  {
   "cell_type": "code",
   "execution_count": 29,
   "metadata": {},
   "outputs": [
    {
     "name": "stdout",
     "output_type": "stream",
     "text": [
      "Input: What is Supervised Learning\n",
      "Document 2:\n",
      "Text: Linear Discriminant Analysis (LDA) Independent Component Analysis (ICA) UMAP (Uniform Manifold Approximation and Projection) C. Association Apriori Algorithm Eclat Algorithm 3. Reinforcement Learning A. Model-Free Methods Q-Learning Deep Q-Network (DQN) SARSA (State-Action-Reward-State-Action) Policy Gradient Methods (e.g., REINFORCE) B. Model-Based Methods Deep Deterministic Policy Gradient (DDPG) Proximal Policy Optimization (PPO) Trust Region Policy Optimization (TRPO) C. Value-Based Methods Monte Carlo Methods Temporal Difference (TD) Learning 4. Ensemble Learning Bagging (e.g., Random Forest) Boosting (e.g., AdaBoost, Gradient Boosting) Stacking 1. Supervised Learning Supervised learning involves training a model on labeled data, where the desired output is known. The model learns to map inputs to outputs based on the provided examples. A. Classification\n",
      "Cosine similarity score: 0.2477\n",
      "\n",
      "Document 17:\n",
      "Text: ones. A. Model-Free Methods 1. Q-Learning Description: Q-Learning learns the value of actions in states to maximize cumulative reward, updating Q-values based on the Bellman equation. Key Points: Off-policy learning method. Can handle problems with stochastic transitions. Convergence can be slow. Applications: Robotics, game playing, autonomous vehicles. 2. Deep Q-Network (DQN) Description: DQN uses deep learning to approximate Q-values, enabling reinforcement learning in high-dimensional state spaces. Key Points: Combines Q-Learning with deep neural networks. Handles large state spaces. Requires extensive training. Applications: Video games, robotics, control systems. 3. SARSA (State-Action-Reward-State-Action) Description: SARSA learns the value of the policy being followed by updating Q-values based on the state-action pairs encountered. Key\n",
      "Cosine similarity score: 0.1654\n",
      "\n",
      "Output: Supervised Learning involves training a model on labeled data, where the desired output is known. The model learns to map inputs to outputs based on the provided examples.\n"
     ]
    }
   ],
   "source": [
    "input_text=\"What is Supervised Learning\"\n",
    "print(f\"Input: {input_text}\")\n",
    "response=ragChain(input_text, vectorizer,tfidf_matrix,documents_chunk,llm, k=2)\n",
    "print(f\"Output: {response}\")"
   ]
  },
  {
   "cell_type": "code",
   "execution_count": null,
   "metadata": {},
   "outputs": [],
   "source": []
  }
 ],
 "metadata": {
  "kernelspec": {
   "display_name": "Python 3 (ipykernel)",
   "language": "python",
   "name": "python3"
  },
  "language_info": {
   "codemirror_mode": {
    "name": "ipython",
    "version": 3
   },
   "file_extension": ".py",
   "mimetype": "text/x-python",
   "name": "python",
   "nbconvert_exporter": "python",
   "pygments_lexer": "ipython3",
   "version": "3.11.4"
  }
 },
 "nbformat": 4,
 "nbformat_minor": 2
}
